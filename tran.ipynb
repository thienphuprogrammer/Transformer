{
 "cells": [
  {
   "cell_type": "code",
   "id": "initial_id",
   "metadata": {
    "collapsed": true,
    "ExecuteTime": {
     "end_time": "2024-11-22T17:23:30.632020Z",
     "start_time": "2024-11-22T17:23:28.444842Z"
    }
   },
   "source": "# !git clone https://github.com/attardi/wikiextractor.git",
   "outputs": [
    {
     "name": "stdout",
     "output_type": "stream",
     "text": [
      "Cloning into 'wikiextractor'...\r\n",
      "remote: Enumerating objects: 771, done.\u001B[K\r\n",
      "remote: Counting objects: 100% (30/30), done.\u001B[K\r\n",
      "remote: Compressing objects: 100% (16/16), done.\u001B[K\r\n",
      "remote: Total 771 (delta 17), reused 21 (delta 14), pack-reused 741 (from 1)\u001B[K\r\n",
      "Receiving objects: 100% (771/771), 1.31 MiB | 1.31 MiB/s, done.\r\n",
      "Resolving deltas: 100% (450/450), done.\r\n"
     ]
    }
   ],
   "execution_count": 1
  },
  {
   "metadata": {
    "ExecuteTime": {
     "end_time": "2024-11-22T17:24:47.324238Z",
     "start_time": "2024-11-22T17:24:45.504392Z"
    }
   },
   "cell_type": "code",
   "source": [
    "!wget https://dumps.wikimedia.org/viwiki/20200501/viwiki-20200501-pages-articles.xml.bz2\n",
    "!bzip2 -d viwiki-20200501-pages-articles.xml.bz2\n",
    "!ls"
   ],
   "id": "ce52ffe23588c156",
   "outputs": [
    {
     "name": "stdout",
     "output_type": "stream",
     "text": [
      "--2024-11-23 00:24:45--  https://dumps.wikimedia.org/viwiki/20200501/viwiki-20200501-pages-articles.xml.bz2\r\n",
      "Resolving dumps.wikimedia.org (dumps.wikimedia.org)... 2620:0:861:3:208:80:154:71, 208.80.154.71\r\n",
      "Connecting to dumps.wikimedia.org (dumps.wikimedia.org)|2620:0:861:3:208:80:154:71|:443... connected.\r\n",
      "HTTP request sent, awaiting response... 404 Not Found\r\n",
      "2024-11-23 00:24:46 ERROR 404: Not Found.\r\n",
      "\r\n",
      "bzip2: Can't open input file viwiki-20200501-pages-articles.xml.bz2: No such file or directory.\r\n",
      "conf.py  models       train.py\t  utils\r\n",
      "data.py  __pycache__  tran.ipynb  wikiextractor\r\n"
     ]
    }
   ],
   "execution_count": 4
  },
  {
   "metadata": {
    "ExecuteTime": {
     "end_time": "2024-11-22T17:24:25.631781Z",
     "start_time": "2024-11-22T17:24:25.427057Z"
    }
   },
   "cell_type": "code",
   "source": "!python wikiextractor/wikiextractor/WikiExtractor.py viwiki-20200501-pages-articles.xml.bz2 --processes 4 -o ./output/ --json",
   "id": "635050309c4aab0b",
   "outputs": [
    {
     "name": "stdout",
     "output_type": "stream",
     "text": [
      "Traceback (most recent call last):\r\n",
      "  File \"/home/alexander/Workspace/LearnNLP/Transformer/wikiextractor/wikiextractor/WikiExtractor.py\", line 66, in <module>\r\n",
      "    from .extract import Extractor, ignoreTag, define_template, acceptedNamespaces\r\n",
      "ImportError: attempted relative import with no known parent package\r\n"
     ]
    }
   ],
   "execution_count": 3
  }
 ],
 "metadata": {
  "kernelspec": {
   "display_name": "Python 3",
   "language": "python",
   "name": "python3"
  },
  "language_info": {
   "codemirror_mode": {
    "name": "ipython",
    "version": 2
   },
   "file_extension": ".py",
   "mimetype": "text/x-python",
   "name": "python",
   "nbconvert_exporter": "python",
   "pygments_lexer": "ipython2",
   "version": "2.7.6"
  }
 },
 "nbformat": 4,
 "nbformat_minor": 5
}
